{
 "cells": [
  {
   "cell_type": "code",
   "execution_count": 4,
   "id": "d1c1c43f-d6a4-4c20-8bce-1fd5fb89894a",
   "metadata": {
    "id": "4a1f43b5-c2e8-42a3-8d8c-25befbdb9314",
    "tags": []
   },
   "outputs": [
    {
     "name": "stdout",
     "output_type": "stream",
     "text": [
      "Hello World, this is notebook 1. \n"
     ]
    }
   ],
   "source": [
    "print (\"Hello World, this is notebook 1. \")"
   ]
  },
  {
   "cell_type": "code",
   "execution_count": 1,
   "id": "06e69116-6a8e-4bf1-877d-94a6e26136fd",
   "metadata": {
    "id": "06e69116-6a8e-4bf1-877d-94a6e26136fd",
    "tags": []
   },
   "outputs": [
    {
     "name": "stdout",
     "output_type": "stream",
     "text": [
      "updated by second user\n"
     ]
    }
   ],
   "source": [
    "print(\"updated by second user\")\n"
   ]
  },
  {
   "cell_type": "code",
   "execution_count": null,
   "id": "60634383-bc31-480e-808f-92d6d7706c4e",
   "metadata": {
    "id": "60634383-bc31-480e-808f-92d6d7706c4e"
   },
   "outputs": [],
   "source": []
  }
 ],
 "metadata": {
  "kernelspec": {
   "display_name": "Python 3.9",
   "language": "python",
   "name": "python3"
  },
  "language_info": {
   "codemirror_mode": {
    "name": "ipython",
    "version": 3
   },
   "file_extension": ".py",
   "mimetype": "text/x-python",
   "name": "python",
   "nbconvert_exporter": "python",
   "pygments_lexer": "ipython3",
   "version": "3.9.7"
  }
 },
 "nbformat": 4,
 "nbformat_minor": 5
}
